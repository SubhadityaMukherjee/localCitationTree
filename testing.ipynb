{
 "cells": [
  {
   "cell_type": "code",
   "execution_count": 1,
   "id": "acceptable-tribute",
   "metadata": {
    "execution": {
     "iopub.execute_input": "2021-03-06T09:08:50.191479Z",
     "iopub.status.busy": "2021-03-06T09:08:50.191083Z",
     "iopub.status.idle": "2021-03-06T09:08:50.196263Z",
     "shell.execute_reply": "2021-03-06T09:08:50.195315Z",
     "shell.execute_reply.started": "2021-03-06T09:08:50.191432Z"
    }
   },
   "outputs": [],
   "source": [
    "from main import *"
   ]
  },
  {
   "cell_type": "markdown",
   "id": "dense-projection",
   "metadata": {},
   "source": [
    "# Reworked"
   ]
  },
  {
   "cell_type": "code",
   "execution_count": 3,
   "id": "surface-morrison",
   "metadata": {},
   "outputs": [],
   "source": [
    "name_sc = \"The Consciousness Prior\""
   ]
  },
  {
   "cell_type": "code",
   "execution_count": 4,
   "id": "amended-journalist",
   "metadata": {},
   "outputs": [],
   "source": [
    "cp = grab_info(name_sc)"
   ]
  },
  {
   "cell_type": "code",
   "execution_count": 5,
   "id": "animal-northwest",
   "metadata": {
    "scrolled": true
   },
   "outputs": [
    {
     "data": {
      "text/plain": [
       "{'container_type': 'Publication',\n",
       " 'source': <PublicationSource.PUBLICATION_SEARCH_SNIPPET: 1>,\n",
       " 'bib': {'title': 'The consciousness prior',\n",
       "  'author': ['Y Bengio'],\n",
       "  'pub_year': '2017',\n",
       "  'venue': 'arXiv preprint arXiv:1709.08568',\n",
       "  'abstract': 'A new prior is proposed for learning representations of high-level concepts of the kind we manipulate with language. This prior can be combined with other priors in order to help disentangling abstract factors from each other. It is inspired by cognitive neuroscience'},\n",
       " 'filled': False,\n",
       " 'gsrank': 1,\n",
       " 'pub_url': 'https://arxiv.org/abs/1709.08568',\n",
       " 'author_id': ['kukA0LcAAAAJ'],\n",
       " 'num_citations': 92,\n",
       " 'url_scholarbib': '/scholar?q=info:xk50ZRr_mWAJ:scholar.google.com/&output=cite&scirp=0&hl=en',\n",
       " 'url_add_sclib': '/citations?hl=en&xsrf=&continue=/scholar%3Fq%3DThe%2BConsciousness%2BPrior%26hl%3Den%26as_sdt%3D0,33&citilm=1&json=&update_op=library_add&info=xk50ZRr_mWAJ&ei=PYJDYN7wEofEmgHFqarQAw',\n",
       " 'citedby_url': '/scholar?cites=6960875187914165958&as_sdt=5,33&sciodt=0,33&hl=en',\n",
       " 'url_related_articles': '/scholar?q=related:xk50ZRr_mWAJ:scholar.google.com/&scioq=The+Consciousness+Prior&hl=en&as_sdt=0,33',\n",
       " 'eprint_url': 'https://arxiv.org/pdf/1709.08568'}"
      ]
     },
     "execution_count": 5,
     "metadata": {},
     "output_type": "execute_result"
    }
   ],
   "source": [
    "cp"
   ]
  },
  {
   "cell_type": "code",
   "execution_count": 6,
   "id": "numeric-happening",
   "metadata": {},
   "outputs": [
    {
     "name": "stderr",
     "output_type": "stream",
     "text": [
      "4it [00:00, 1087.59it/s]             \n"
     ]
    }
   ],
   "source": [
    "related = grab_related(cp, 3)"
   ]
  },
  {
   "cell_type": "code",
   "execution_count": 7,
   "id": "friendly-fault",
   "metadata": {
    "scrolled": true
   },
   "outputs": [
    {
     "data": {
      "text/plain": [
       "[{'container_type': 'Publication',\n",
       "  'source': <PublicationSource.PUBLICATION_SEARCH_SNIPPET: 1>,\n",
       "  'bib': {'title': 'Deep reinforcement learning: An overview',\n",
       "   'author': ['Y Li'],\n",
       "   'pub_year': '2017',\n",
       "   'venue': 'arXiv preprint arXiv:1701.07274',\n",
       "   'abstract': 'We give an overview of recent exciting achievements of deep reinforcement learning (RL). We discuss six core elements, six important mechanisms, and twelve applications. We start with background of machine learning, deep learning and reinforcement learning. Next we'},\n",
       "  'filled': False,\n",
       "  'gsrank': 1,\n",
       "  'pub_url': 'https://arxiv.org/abs/1701.07274',\n",
       "  'author_id': [''],\n",
       "  'num_citations': 579,\n",
       "  'url_scholarbib': '/scholar?q=info:1pKivau298wJ:scholar.google.com/&output=cite&scirp=0&hl=en',\n",
       "  'url_add_sclib': '/citations?hl=en&xsrf=&continue=/scholar%3Fhl%3Den%26as_sdt%3D5,33%26sciodt%3D0,33%26cites%3D6960875187914165958%26scipsc%3D&citilm=1&json=&update_op=library_add&info=1pKivau298wJ&ei=Q4JDYO2wOcnJsQK99J7gAw',\n",
       "  'citedby_url': '/scholar?cites=14769474351722042070&as_sdt=5,33&sciodt=0,33&hl=en',\n",
       "  'url_related_articles': '/scholar?q=related:1pKivau298wJ:scholar.google.com/&scioq=&hl=en&as_sdt=5,33&sciodt=0,33',\n",
       "  'eprint_url': 'https://arxiv.org/pdf/1701.07274.pdf?source=post_page---------------------------'},\n",
       " {'container_type': 'Publication',\n",
       "  'source': <PublicationSource.PUBLICATION_SEARCH_SNIPPET: 1>,\n",
       "  'bib': {'title': 'An introduction to deep reinforcement learning',\n",
       "   'author': ['V François-Lavet', 'P Henderson', 'R Islam'],\n",
       "   'pub_year': '2018',\n",
       "   'venue': 'arXiv preprint arXiv …',\n",
       "   'abstract': 'Deep reinforcement learning is the combination of reinforcement learning (RL) and deep learning. This field of research has been able to solve a wide range of complex decision-making tasks that were previously out of reach for a machine. Thus, deep RL opens up many'},\n",
       "  'filled': False,\n",
       "  'gsrank': 2,\n",
       "  'pub_url': 'https://arxiv.org/abs/1811.12560',\n",
       "  'author_id': ['n12uNYcAAAAJ', 'dy_JBs0AAAAJ', '2_4Rs44AAAAJ'],\n",
       "  'num_citations': 325,\n",
       "  'url_scholarbib': '/scholar?q=info:B7DTUeQ4uPYJ:scholar.google.com/&output=cite&scirp=1&hl=en',\n",
       "  'url_add_sclib': '/citations?hl=en&xsrf=&continue=/scholar%3Fhl%3Den%26as_sdt%3D5,33%26sciodt%3D0,33%26cites%3D6960875187914165958%26scipsc%3D&citilm=1&json=&update_op=library_add&info=B7DTUeQ4uPYJ&ei=Q4JDYO2wOcnJsQK99J7gAw',\n",
       "  'citedby_url': '/scholar?cites=17778022082321559559&as_sdt=5,33&sciodt=0,33&hl=en',\n",
       "  'url_related_articles': '/scholar?q=related:B7DTUeQ4uPYJ:scholar.google.com/&scioq=&hl=en&as_sdt=5,33&sciodt=0,33',\n",
       "  'eprint_url': 'https://arxiv.org/pdf/1811.12560.pdf?fbclid=IwAR3sArXMkmy7yL_baZJ2QLa1Ud8LaC8x6s-0VvXb8WEkdjzBOnck-DI-yBA'},\n",
       " {'container_type': 'Publication',\n",
       "  'source': <PublicationSource.PUBLICATION_SEARCH_SNIPPET: 1>,\n",
       "  'bib': {'title': 'Measuring the tendency of cnns to learn surface statistical regularities',\n",
       "   'author': ['J Jo', 'Y Bengio'],\n",
       "   'pub_year': '2017',\n",
       "   'venue': 'arXiv preprint arXiv:1711.11561',\n",
       "   'abstract': 'Deep CNNs are known to exhibit the following peculiarity: on the one hand they generalize extremely well to a test set, while on the other hand they are extremely sensitive to so-called adversarial perturbations. The extreme sensitivity of high performance CNNs to adversarial'},\n",
       "  'filled': False,\n",
       "  'gsrank': 3,\n",
       "  'pub_url': 'https://arxiv.org/abs/1711.11561',\n",
       "  'author_id': ['', 'kukA0LcAAAAJ'],\n",
       "  'num_citations': 121,\n",
       "  'url_scholarbib': '/scholar?q=info:UCzSsczbiloJ:scholar.google.com/&output=cite&scirp=2&hl=en',\n",
       "  'url_add_sclib': '/citations?hl=en&xsrf=&continue=/scholar%3Fhl%3Den%26as_sdt%3D5,33%26sciodt%3D0,33%26cites%3D6960875187914165958%26scipsc%3D&citilm=1&json=&update_op=library_add&info=UCzSsczbiloJ&ei=Q4JDYO2wOcnJsQK99J7gAw',\n",
       "  'citedby_url': '/scholar?cites=6524268682402737232&as_sdt=5,33&sciodt=0,33&hl=en',\n",
       "  'url_related_articles': '/scholar?q=related:UCzSsczbiloJ:scholar.google.com/&scioq=&hl=en&as_sdt=5,33&sciodt=0,33',\n",
       "  'eprint_url': 'https://arxiv.org/pdf/1711.11561'},\n",
       " {'container_type': 'Publication',\n",
       "  'source': <PublicationSource.PUBLICATION_SEARCH_SNIPPET: 1>,\n",
       "  'bib': {'title': 'Troubling trends in machine learning scholarship',\n",
       "   'author': ['ZC Lipton', 'J Steinhardt'],\n",
       "   'pub_year': '2018',\n",
       "   'venue': 'arXiv preprint arXiv:1807.03341',\n",
       "   'abstract': 'Collectively, machine learning (ML) researchers are engaged in the creation and dissemination of knowledge about data-driven algorithms. In a given paper, researchers might aspire to any subset of the following goals, among others: to theoretically characterize'},\n",
       "  'filled': False,\n",
       "  'gsrank': 4,\n",
       "  'pub_url': 'https://arxiv.org/abs/1807.03341',\n",
       "  'author_id': ['MN9Kfg8AAAAJ', 'LKv32bgAAAAJ'],\n",
       "  'num_citations': 109,\n",
       "  'url_scholarbib': '/scholar?q=info:-eITP9XUdxsJ:scholar.google.com/&output=cite&scirp=3&hl=en',\n",
       "  'url_add_sclib': '/citations?hl=en&xsrf=&continue=/scholar%3Fhl%3Den%26as_sdt%3D5,33%26sciodt%3D0,33%26cites%3D6960875187914165958%26scipsc%3D&citilm=1&json=&update_op=library_add&info=-eITP9XUdxsJ&ei=Q4JDYO2wOcnJsQK99J7gAw',\n",
       "  'citedby_url': '/scholar?cites=1979284573604012793&as_sdt=5,33&sciodt=0,33&hl=en',\n",
       "  'url_related_articles': '/scholar?q=related:-eITP9XUdxsJ:scholar.google.com/&scioq=&hl=en&as_sdt=5,33&sciodt=0,33',\n",
       "  'eprint_url': 'https://arxiv.org/pdf/1807.03341.pdf?source=post_page---------------------------'}]"
      ]
     },
     "execution_count": 7,
     "metadata": {},
     "output_type": "execute_result"
    }
   ],
   "source": [
    "related"
   ]
  },
  {
   "cell_type": "code",
   "execution_count": 9,
   "id": "republican-return",
   "metadata": {},
   "outputs": [
    {
     "data": {
      "text/plain": [
       "'https://arxiv.org/pdf/1709.08568'"
      ]
     },
     "execution_count": 9,
     "metadata": {},
     "output_type": "execute_result"
    }
   ],
   "source": [
    "grab_paper_links(cp)"
   ]
  },
  {
   "cell_type": "code",
   "execution_count": 10,
   "id": "composite-terry",
   "metadata": {},
   "outputs": [
    {
     "data": {
      "text/plain": [
       "[(579,\n",
       "  {'title': 'Deep reinforcement learning: An overview',\n",
       "   'author': ['Y Li'],\n",
       "   'pub_year': '2017',\n",
       "   'venue': 'arXiv preprint arXiv:1701.07274',\n",
       "   'abstract': 'We give an overview of recent exciting achievements of deep reinforcement learning (RL). We discuss six core elements, six important mechanisms, and twelve applications. We start with background of machine learning, deep learning and reinforcement learning. Next we'}),\n",
       " (325,\n",
       "  {'title': 'An introduction to deep reinforcement learning',\n",
       "   'author': ['V François-Lavet', 'P Henderson', 'R Islam'],\n",
       "   'pub_year': '2018',\n",
       "   'venue': 'arXiv preprint arXiv …',\n",
       "   'abstract': 'Deep reinforcement learning is the combination of reinforcement learning (RL) and deep learning. This field of research has been able to solve a wide range of complex decision-making tasks that were previously out of reach for a machine. Thus, deep RL opens up many'}),\n",
       " (121,\n",
       "  {'title': 'Measuring the tendency of cnns to learn surface statistical regularities',\n",
       "   'author': ['J Jo', 'Y Bengio'],\n",
       "   'pub_year': '2017',\n",
       "   'venue': 'arXiv preprint arXiv:1711.11561',\n",
       "   'abstract': 'Deep CNNs are known to exhibit the following peculiarity: on the one hand they generalize extremely well to a test set, while on the other hand they are extremely sensitive to so-called adversarial perturbations. The extreme sensitivity of high performance CNNs to adversarial'}),\n",
       " (109,\n",
       "  {'title': 'Troubling trends in machine learning scholarship',\n",
       "   'author': ['ZC Lipton', 'J Steinhardt'],\n",
       "   'pub_year': '2018',\n",
       "   'venue': 'arXiv preprint arXiv:1807.03341',\n",
       "   'abstract': 'Collectively, machine learning (ML) researchers are engaged in the creation and dissemination of knowledge about data-driven algorithms. In a given paper, researchers might aspire to any subset of the following goals, among others: to theoretically characterize'})]"
      ]
     },
     "execution_count": 10,
     "metadata": {},
     "output_type": "execute_result"
    }
   ],
   "source": [
    "get_citation_counts(related)"
   ]
  },
  {
   "cell_type": "code",
   "execution_count": 11,
   "id": "finite-commitment",
   "metadata": {},
   "outputs": [
    {
     "data": {
      "text/plain": [
       "92"
      ]
     },
     "execution_count": 11,
     "metadata": {},
     "output_type": "execute_result"
    }
   ],
   "source": [
    "get_citation_counts(cp)"
   ]
  },
  {
   "cell_type": "code",
   "execution_count": null,
   "id": "compliant-support",
   "metadata": {},
   "outputs": [],
   "source": []
  },
  {
   "cell_type": "code",
   "execution_count": null,
   "id": "graduate-final",
   "metadata": {},
   "outputs": [],
   "source": []
  },
  {
   "cell_type": "code",
   "execution_count": null,
   "id": "fabulous-verse",
   "metadata": {},
   "outputs": [],
   "source": []
  }
 ],
 "metadata": {
  "kernelspec": {
   "display_name": "Python 3",
   "language": "python",
   "name": "python3"
  },
  "language_info": {
   "codemirror_mode": {
    "name": "ipython",
    "version": 3
   },
   "file_extension": ".py",
   "mimetype": "text/x-python",
   "name": "python",
   "nbconvert_exporter": "python",
   "pygments_lexer": "ipython3",
   "version": "3.9.1"
  },
  "toc": {
   "base_numbering": 1,
   "nav_menu": {},
   "number_sections": true,
   "sideBar": true,
   "skip_h1_title": false,
   "title_cell": "Table of Contents",
   "title_sidebar": "Contents",
   "toc_cell": false,
   "toc_position": {},
   "toc_section_display": true,
   "toc_window_display": false
  },
  "varInspector": {
   "cols": {
    "lenName": 16,
    "lenType": 16,
    "lenVar": 40
   },
   "kernels_config": {
    "python": {
     "delete_cmd_postfix": "",
     "delete_cmd_prefix": "del ",
     "library": "var_list.py",
     "varRefreshCmd": "print(var_dic_list())"
    },
    "r": {
     "delete_cmd_postfix": ") ",
     "delete_cmd_prefix": "rm(",
     "library": "var_list.r",
     "varRefreshCmd": "cat(var_dic_list()) "
    }
   },
   "types_to_exclude": [
    "module",
    "function",
    "builtin_function_or_method",
    "instance",
    "_Feature"
   ],
   "window_display": false
  }
 },
 "nbformat": 4,
 "nbformat_minor": 5
}
